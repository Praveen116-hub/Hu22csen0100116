{
  "cells": [
    {
      "cell_type": "markdown",
      "metadata": {
        "id": "view-in-github",
        "colab_type": "text"
      },
      "source": [
        "<a href=\"https://colab.research.google.com/github/Praveen116-hub/Hu22csen0100116/blob/main/HU22CSEN0100116.ipynb\" target=\"_parent\"><img src=\"https://colab.research.google.com/assets/colab-badge.svg\" alt=\"Open In Colab\"/></a>"
      ]
    },
    {
      "cell_type": "code",
      "source": [
        "def temperature_modeling(a,b,c,time):\n",
        "  temperature = a*time**2 + b*time + c\n",
        "  return temperature"
      ],
      "metadata": {
        "id": "udRhBMpoMrHL"
      },
      "execution_count": null,
      "outputs": []
    },
    {
      "cell_type": "code",
      "source": [
        "#Hardcoded variables\n",
        "a,b,c=0.1,2,10\n",
        "time = 5"
      ],
      "metadata": {
        "id": "ko2SnxCJNGTy"
      },
      "execution_count": null,
      "outputs": []
    },
    {
      "cell_type": "code",
      "source": [
        "#display results\n",
        "print(\"Hard-coded variables for weather modeling\")\n",
        "print(\"Temperature for hardcoded coefficients at time\",time,\"hours:\",temperature_modeling(a,b,c,time))"
      ],
      "metadata": {
        "id": "bN3WTc_eNUKS",
        "outputId": "408b3524-a700-463a-db58-7e630616109e",
        "colab": {
          "base_uri": "https://localhost:8080/"
        }
      },
      "execution_count": null,
      "outputs": [
        {
          "output_type": "stream",
          "name": "stdout",
          "text": [
            "Hard-coded variables for weather modeling\n",
            "Temperature for hardcoded coefficients at time 5 hours: 22.5\n"
          ]
        }
      ]
    },
    {
      "cell_type": "code",
      "source": [
        "a=float(input(\"Enter coefficient a:\"))\n",
        "b=float(input(\"Enter coefficient b:\"))\n",
        "c=float(input(\"Enter coefficient c:\"))"
      ],
      "metadata": {
        "id": "0JLLDxqWOqtL",
        "outputId": "0836a51a-5321-4b92-91aa-d9b0c376ddeb",
        "colab": {
          "base_uri": "https://localhost:8080/"
        }
      },
      "execution_count": null,
      "outputs": [
        {
          "name": "stdout",
          "output_type": "stream",
          "text": [
            "Enter coefficient a:0.1\n",
            "Enter coefficient b:3\n",
            "Enter coefficient c:10\n"
          ]
        }
      ]
    },
    {
      "cell_type": "code",
      "source": [
        "time=float(input(\"enter time\"))"
      ],
      "metadata": {
        "id": "ArHmIMAvO6DZ",
        "outputId": "89d620ed-deab-4578-9ea1-e331c5f1dfdf",
        "colab": {
          "base_uri": "https://localhost:8080/"
        }
      },
      "execution_count": null,
      "outputs": [
        {
          "name": "stdout",
          "output_type": "stream",
          "text": [
            "enter time4\n"
          ]
        }
      ]
    },
    {
      "cell_type": "code",
      "source": [
        "#variables read from keyboard\n",
        "print(\"Hard coded variables for weather modeling\")\n",
        "print(\"Temperature for hardcoded coefficients at time\",time,\"hours:\",temperature_modeling(a,b,c,time))"
      ],
      "metadata": {
        "id": "5Ss_5U2bPgfZ",
        "outputId": "02b4d728-53b7-448b-84c8-e8484e5f3784",
        "colab": {
          "base_uri": "https://localhost:8080/"
        }
      },
      "execution_count": null,
      "outputs": [
        {
          "output_type": "stream",
          "name": "stdout",
          "text": [
            "Hard coded variables for weather modeling\n",
            "Temperature for hardcoded coefficients at time 4.0 hours: 23.6\n"
          ]
        }
      ]
    },
    {
      "cell_type": "code",
      "source": [
        "#Read coefficients from a file\n",
        "def read_from_file(filename):\n",
        "  with open(filename,\"r\") as file:\n",
        "    lines = file.readlines()\n",
        "    coefficients = [tuple(map(float,line.strip().split(','))) for line in lines]\n",
        "  return coefficients"
      ],
      "metadata": {
        "id": "MiU21TTIP2i0"
      },
      "execution_count": null,
      "outputs": []
    },
    {
      "cell_type": "code",
      "source": [
        "#Example: Solve for a single set of inputs\n",
        "coefficients = read_from_file('/content/untitled1.txt')\n",
        "a, b, c, time = coefficients[0]\n",
        "temperature = temperature_modeling(a,b,c,time)\n",
        "print(\"read from a file for weather modeling\")\n",
        "print(\"Temperature from keyboard coefficients at a time\",time,\"hors:\",temperature_modeling(a,b,c,time))"
      ],
      "metadata": {
        "id": "o6ruT41ERzPT",
        "outputId": "e6983c7a-8c2f-4f5e-a236-497e3d157a49",
        "colab": {
          "base_uri": "https://localhost:8080/"
        }
      },
      "execution_count": null,
      "outputs": [
        {
          "output_type": "stream",
          "name": "stdout",
          "text": [
            "read from a file for weather modeling\n",
            "Temperature from keyboard coefficients at a time 9.0 hors: 106.1\n"
          ]
        }
      ]
    },
    {
      "cell_type": "code",
      "source": [
        "#Solve for all sets in the file\n",
        "for idx, (a, b, c, time) in enumerate(coefficients):\n",
        "  temperature = temperature_modeling(a,b,c,time)\n",
        "  print(\"Temperature from keyboard coefficients at a time\",time,\"hors:\",temperature_modeling(a,b,c,time))"
      ],
      "metadata": {
        "id": "L3RLZIYEWEFM",
        "outputId": "361db05e-671b-4537-b300-bafaad867498",
        "colab": {
          "base_uri": "https://localhost:8080/"
        }
      },
      "execution_count": null,
      "outputs": [
        {
          "output_type": "stream",
          "name": "stdout",
          "text": [
            "Temperature from keyboard coefficients at a time 9.0 hors: 106.1\n",
            "Temperature from keyboard coefficients at a time 4.0 hors: 54.2\n"
          ]
        }
      ]
    }
  ],
  "metadata": {
    "colab": {
      "provenance": [],
      "include_colab_link": true
    },
    "kernelspec": {
      "display_name": "Python 3",
      "name": "python3"
    }
  },
  "nbformat": 4,
  "nbformat_minor": 0
}